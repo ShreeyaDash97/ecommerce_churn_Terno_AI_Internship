{
 "cells": [
  {
   "cell_type": "markdown",
   "id": "f662cd27",
   "metadata": {},
   "source": [
    "1. Import Libraries and Load Data"
   ]
  },
  {
   "cell_type": "code",
   "execution_count": 25,
   "id": "b3c86a7c",
   "metadata": {},
   "outputs": [
    {
     "data": {
      "text/html": [
       "<div>\n",
       "<style scoped>\n",
       "    .dataframe tbody tr th:only-of-type {\n",
       "        vertical-align: middle;\n",
       "    }\n",
       "\n",
       "    .dataframe tbody tr th {\n",
       "        vertical-align: top;\n",
       "    }\n",
       "\n",
       "    .dataframe thead th {\n",
       "        text-align: right;\n",
       "    }\n",
       "</style>\n",
       "<table border=\"1\" class=\"dataframe\">\n",
       "  <thead>\n",
       "    <tr style=\"text-align: right;\">\n",
       "      <th></th>\n",
       "      <th>UserID</th>\n",
       "      <th>VisitsLast30Days</th>\n",
       "      <th>TimeOnSite</th>\n",
       "      <th>PurchaseCount</th>\n",
       "      <th>HasSupportTicket</th>\n",
       "      <th>Churned</th>\n",
       "    </tr>\n",
       "  </thead>\n",
       "  <tbody>\n",
       "    <tr>\n",
       "      <th>0</th>\n",
       "      <td>5001</td>\n",
       "      <td>41</td>\n",
       "      <td>7.2</td>\n",
       "      <td>0</td>\n",
       "      <td>No</td>\n",
       "      <td>Yes</td>\n",
       "    </tr>\n",
       "    <tr>\n",
       "      <th>1</th>\n",
       "      <td>5002</td>\n",
       "      <td>34</td>\n",
       "      <td>15.2</td>\n",
       "      <td>8</td>\n",
       "      <td>No</td>\n",
       "      <td>No</td>\n",
       "    </tr>\n",
       "    <tr>\n",
       "      <th>2</th>\n",
       "      <td>5003</td>\n",
       "      <td>6</td>\n",
       "      <td>13.3</td>\n",
       "      <td>5</td>\n",
       "      <td>No</td>\n",
       "      <td>Yes</td>\n",
       "    </tr>\n",
       "    <tr>\n",
       "      <th>3</th>\n",
       "      <td>5004</td>\n",
       "      <td>15</td>\n",
       "      <td>17.1</td>\n",
       "      <td>6</td>\n",
       "      <td>Yes</td>\n",
       "      <td>Yes</td>\n",
       "    </tr>\n",
       "    <tr>\n",
       "      <th>4</th>\n",
       "      <td>5005</td>\n",
       "      <td>25</td>\n",
       "      <td>13.5</td>\n",
       "      <td>9</td>\n",
       "      <td>Yes</td>\n",
       "      <td>No</td>\n",
       "    </tr>\n",
       "  </tbody>\n",
       "</table>\n",
       "</div>"
      ],
      "text/plain": [
       "   UserID  VisitsLast30Days  TimeOnSite  PurchaseCount HasSupportTicket  \\\n",
       "0    5001                41         7.2              0               No   \n",
       "1    5002                34        15.2              8               No   \n",
       "2    5003                 6        13.3              5               No   \n",
       "3    5004                15        17.1              6              Yes   \n",
       "4    5005                25        13.5              9              Yes   \n",
       "\n",
       "  Churned  \n",
       "0     Yes  \n",
       "1      No  \n",
       "2     Yes  \n",
       "3     Yes  \n",
       "4      No  "
      ]
     },
     "execution_count": 25,
     "metadata": {},
     "output_type": "execute_result"
    }
   ],
   "source": [
    "import pandas as pd\n",
    "import numpy as np\n",
    "import matplotlib.pyplot as plt\n",
    "import seaborn as sns\n",
    "\n",
    "# Load dataset\n",
    "df = pd.read_csv('ecommerce_churn.csv')\n",
    "df.head()\n"
   ]
  },
  {
   "cell_type": "markdown",
   "id": "39e03904",
   "metadata": {},
   "source": [
    "2. Data Cleaning (Encode Categoricals and Check Missing Values)"
   ]
  },
  {
   "cell_type": "code",
   "execution_count": 26,
   "id": "58e15e68",
   "metadata": {},
   "outputs": [
    {
     "name": "stdout",
     "output_type": "stream",
     "text": [
      "UserID              0\n",
      "VisitsLast30Days    0\n",
      "TimeOnSite          0\n",
      "PurchaseCount       0\n",
      "HasSupportTicket    0\n",
      "Churned             0\n",
      "dtype: int64\n"
     ]
    }
   ],
   "source": [
    "# Encode categorical variables (Yes=1,No=0)\n",
    "df['Churned'] = df['Churned'].map({'Yes': 1, 'No': 0})\n",
    "df['HasSupportTicket'] = df['HasSupportTicket'].map({'Yes': 1, 'No': 0})\n",
    "\n",
    "print(df.isnull().sum())"
   ]
  },
  {
   "cell_type": "code",
   "execution_count": 27,
   "id": "c7657e3a",
   "metadata": {},
   "outputs": [
    {
     "name": "stdout",
     "output_type": "stream",
     "text": [
      "   UserID  VisitsLast30Days  TimeOnSite  PurchaseCount  HasSupportTicket  \\\n",
      "0    5001                41         7.2              0                 0   \n",
      "1    5002                34        15.2              8                 0   \n",
      "2    5003                 6        13.3              5                 0   \n",
      "3    5004                15        17.1              6                 1   \n",
      "4    5005                25        13.5              9                 1   \n",
      "\n",
      "   Churned  \n",
      "0        1  \n",
      "1        0  \n",
      "2        1  \n",
      "3        1  \n",
      "4        0  \n",
      "Index(['UserID', 'VisitsLast30Days', 'TimeOnSite', 'PurchaseCount',\n",
      "       'HasSupportTicket', 'Churned'],\n",
      "      dtype='object')\n",
      "[1 0]\n",
      "Churned\n",
      "0    31\n",
      "1    19\n",
      "Name: count, dtype: int64\n"
     ]
    }
   ],
   "source": [
    "print(df.head())\n",
    "print(df.columns)\n",
    "print(df['Churned'].unique())\n",
    "print(df['Churned'].value_counts())\n"
   ]
  },
  {
   "cell_type": "markdown",
   "id": "4aa45de9",
   "metadata": {},
   "source": [
    "3.Basic EDA (Exploratory Data Analysis)"
   ]
  },
  {
   "cell_type": "code",
   "execution_count": 34,
   "id": "eeeb51e7",
   "metadata": {},
   "outputs": [
    {
     "data": {
      "image/png": "[encoded data removed]",
      "text/plain": [
       "<Figure size 640x480 with 1 Axes>"
      ]
     },
     "metadata": {},
     "output_type": "display_data"
    },
    {
     "name": "stdout",
     "output_type": "stream",
     "text": [
      "           UserID  VisitsLast30Days  TimeOnSite  PurchaseCount  \\\n",
      "count    50.00000         50.000000   50.000000      50.000000   \n",
      "mean   5025.50000         25.540000   11.700000       4.840000   \n",
      "std      14.57738         14.758201    5.618337       2.845404   \n",
      "min    5001.00000          0.000000    1.300000       0.000000   \n",
      "25%    5013.25000         15.000000    7.050000       3.000000   \n",
      "50%    5025.50000         26.500000   11.900000       5.000000   \n",
      "75%    5037.75000         35.750000   17.175000       7.000000   \n",
      "max    5050.00000         48.000000   19.800000       9.000000   \n",
      "\n",
      "       HasSupportTicket    Churned  \n",
      "count         50.000000  50.000000  \n",
      "mean           0.520000   0.380000  \n",
      "std            0.504672   0.490314  \n",
      "min            0.000000   0.000000  \n",
      "25%            0.000000   0.000000  \n",
      "50%            1.000000   0.000000  \n",
      "75%            1.000000   1.000000  \n",
      "max            1.000000   1.000000  \n",
      "Purchase Count Mean by Churn:\n",
      " Churned\n",
      "0    5.032258\n",
      "1    4.526316\n",
      "Name: PurchaseCount, dtype: float64\n",
      "VisitsLast30Days Mean by Churn:\n",
      " Churned\n",
      "0    27.354839\n",
      "1    22.578947\n",
      "Name: VisitsLast30Days, dtype: float64\n",
      "TimeOnSite Mean by Churn:\n",
      " Churned\n",
      "0    12.000000\n",
      "1    11.210526\n",
      "Name: TimeOnSite, dtype: float64\n"
     ]
    },
    {
     "data": {
      "text/plain": [
       "<Figure size 640x480 with 0 Axes>"
      ]
     },
     "metadata": {},
     "output_type": "display_data"
    },
    {
     "data": {
      "image/png": "[encoded data removed]",
      "text/plain": [
       "<Figure size 600x400 with 2 Axes>"
      ]
     },
     "metadata": {},
     "output_type": "display_data"
    },
    {
     "data": {
      "text/plain": [
       "<Figure size 640x480 with 0 Axes>"
      ]
     },
     "metadata": {},
     "output_type": "display_data"
    }
   ],
   "source": [
    "# Churn distribution\n",
    "sns.countplot(x=df['Churned'].map({1:'Yes', 0:'No'}))\n",
    "plt.title('Churned vs Not Churned')\n",
    "plt.xlabel('Churned')\n",
    "plt.ylabel('Count')\n",
    "plt.show()\n",
    "plt.savefig('churn_distribution.png')\n",
    "\n",
    "# Feature summary statistics\n",
    "print(df.describe())\n",
    "\n",
    "# Compare means by churn status\n",
    "print(\"Purchase Count Mean by Churn:\\n\", df.groupby('Churned')['PurchaseCount'].mean())\n",
    "print(\"VisitsLast30Days Mean by Churn:\\n\", df.groupby('Churned')['VisitsLast30Days'].mean())\n",
    "print(\"TimeOnSite Mean by Churn:\\n\", df.groupby('Churned')['TimeOnSite'].mean())\n",
    "\n",
    "# Correlation heatmap\n",
    "plt.figure(figsize=(6,4))\n",
    "sns.heatmap(df.corr(), annot=True, cmap='coolwarm', fmt=\".2f\")\n",
    "plt.title('Feature Correlations')\n",
    "plt.show()\n",
    "plt.savefig('correlation_heatmap.png')\n"
   ]
  },
  {
   "cell_type": "markdown",
   "id": "463e28b6",
   "metadata": {},
   "source": [
    "4. Train-Test Split for Modeling"
   ]
  },
  {
   "cell_type": "code",
   "execution_count": 31,
   "id": "b72d3cf0",
   "metadata": {},
   "outputs": [],
   "source": [
    "from sklearn.model_selection import train_test_split\n",
    "\n",
    "X = df.drop(['UserID', 'Churned'], axis=1)\n",
    "y = df['Churned']\n",
    "\n",
    "X_train, X_test, y_train, y_test = train_test_split(X, y, test_size=0.2, random_state=42)\n"
   ]
  },
  {
   "cell_type": "markdown",
   "id": "f328fd33",
   "metadata": {},
   "source": [
    "5. Train a Basic ML Model (Logistic Regression)"
   ]
  },
  {
   "cell_type": "code",
   "execution_count": 32,
   "id": "701467b7",
   "metadata": {},
   "outputs": [],
   "source": [
    "from sklearn.linear_model import LogisticRegression\n",
    "\n",
    "model = LogisticRegression()\n",
    "model.fit(X_train, y_train)\n",
    "y_pred = model.predict(X_test)"
   ]
  },
  {
   "cell_type": "markdown",
   "id": "f65bef6e",
   "metadata": {},
   "source": [
    "6. Evaluate Model Results"
   ]
  },
  {
   "cell_type": "code",
   "execution_count": 33,
   "id": "2a59006e",
   "metadata": {},
   "outputs": [
    {
     "name": "stdout",
     "output_type": "stream",
     "text": [
      "Accuracy: 0.4\n",
      "Confusion Matrix:\n",
      " [[4 0]\n",
      " [6 0]]\n",
      "Classification Report:\n",
      "               precision    recall  f1-score   support\n",
      "\n",
      "           0       0.40      1.00      0.57         4\n",
      "           1       0.00      0.00      0.00         6\n",
      "\n",
      "    accuracy                           0.40        10\n",
      "   macro avg       0.20      0.50      0.29        10\n",
      "weighted avg       0.16      0.40      0.23        10\n",
      "\n",
      "VisitsLast30Days: -0.033\n",
      "TimeOnSite: -0.088\n",
      "PurchaseCount: -0.179\n",
      "HasSupportTicket: 0.010\n"
     ]
    },
    {
     "name": "stderr",
     "output_type": "stream",
     "text": [
      "C:\\Users\\HP\\AppData\\Local\\Programs\\Python\\Python313\\Lib\\site-packages\\sklearn\\metrics\\_classification.py:1731: UndefinedMetricWarning: Precision is ill-defined and being set to 0.0 in labels with no predicted samples. Use `zero_division` parameter to control this behavior.\n",
      "  _warn_prf(average, modifier, f\"{metric.capitalize()} is\", result.shape[0])\n",
      "C:\\Users\\HP\\AppData\\Local\\Programs\\Python\\Python313\\Lib\\site-packages\\sklearn\\metrics\\_classification.py:1731: UndefinedMetricWarning: Precision is ill-defined and being set to 0.0 in labels with no predicted samples. Use `zero_division` parameter to control this behavior.\n",
      "  _warn_prf(average, modifier, f\"{metric.capitalize()} is\", result.shape[0])\n",
      "C:\\Users\\HP\\AppData\\Local\\Programs\\Python\\Python313\\Lib\\site-packages\\sklearn\\metrics\\_classification.py:1731: UndefinedMetricWarning: Precision is ill-defined and being set to 0.0 in labels with no predicted samples. Use `zero_division` parameter to control this behavior.\n",
      "  _warn_prf(average, modifier, f\"{metric.capitalize()} is\", result.shape[0])\n"
     ]
    }
   ],
   "source": [
    "from sklearn.metrics import accuracy_score, confusion_matrix, classification_report\n",
    "\n",
    "print(\"Accuracy:\", accuracy_score(y_test, y_pred))\n",
    "print(\"Confusion Matrix:\\n\", confusion_matrix(y_test, y_pred))\n",
    "print(\"Classification Report:\\n\", classification_report(y_test, y_pred))\n",
    "\n",
    "# Show model coefficients for feature importance\n",
    "for f, coef in zip(X.columns, model.coef_[0]):\n",
    "    print(f\"{f}: {coef:.3f}\")"
   ]
  },
  {
   "cell_type": "markdown",
   "id": "536d0db6",
   "metadata": {},
   "source": []
  }
 ],
 "metadata": {
  "kernelspec": {
   "display_name": "my_env_python",
   "language": "python",
   "name": "my_env_python"
  },
  "language_info": {
   "codemirror_mode": {
    "name": "ipython",
    "version": 3
   },
   "file_extension": ".py",
   "mimetype": "text/x-python",
   "name": "python",
   "nbconvert_exporter": "python",
   "pygments_lexer": "ipython3",
   "version": "3.13.7"
  }
 },
 "nbformat": 4,
 "nbformat_minor": 5
}
